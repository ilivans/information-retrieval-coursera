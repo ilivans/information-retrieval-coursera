{
 "cells": [
  {
   "cell_type": "code",
   "execution_count": 1,
   "metadata": {},
   "outputs": [],
   "source": [
    "import pandas as pd\n",
    "import numpy as np"
   ]
  },
  {
   "cell_type": "code",
   "execution_count": 3,
   "metadata": {},
   "outputs": [
    {
     "name": "stdout",
     "output_type": "stream",
     "text": [
      "(70943, 4)\n"
     ]
    },
    {
     "data": {
      "text/html": [
       "<div>\n",
       "<style scoped>\n",
       "    .dataframe tbody tr th:only-of-type {\n",
       "        vertical-align: middle;\n",
       "    }\n",
       "\n",
       "    .dataframe tbody tr th {\n",
       "        vertical-align: top;\n",
       "    }\n",
       "\n",
       "    .dataframe thead th {\n",
       "        text-align: right;\n",
       "    }\n",
       "</style>\n",
       "<table border=\"1\" class=\"dataframe\">\n",
       "  <thead>\n",
       "    <tr style=\"text-align: right;\">\n",
       "      <th></th>\n",
       "      <th>query_id</th>\n",
       "      <th>relevance</th>\n",
       "      <th>id</th>\n",
       "      <th>prediction</th>\n",
       "    </tr>\n",
       "  </thead>\n",
       "  <tbody>\n",
       "    <tr>\n",
       "      <th>0</th>\n",
       "      <td>2</td>\n",
       "      <td>2.0</td>\n",
       "      <td>6553605</td>\n",
       "      <td>0.151981</td>\n",
       "    </tr>\n",
       "    <tr>\n",
       "      <th>1</th>\n",
       "      <td>2</td>\n",
       "      <td>2.0</td>\n",
       "      <td>7602182</td>\n",
       "      <td>-0.015192</td>\n",
       "    </tr>\n",
       "    <tr>\n",
       "      <th>2</th>\n",
       "      <td>2</td>\n",
       "      <td>2.0</td>\n",
       "      <td>9025828</td>\n",
       "      <td>-0.044992</td>\n",
       "    </tr>\n",
       "    <tr>\n",
       "      <th>3</th>\n",
       "      <td>2</td>\n",
       "      <td>2.0</td>\n",
       "      <td>4980745</td>\n",
       "      <td>-0.024775</td>\n",
       "    </tr>\n",
       "    <tr>\n",
       "      <th>4</th>\n",
       "      <td>2</td>\n",
       "      <td>2.0</td>\n",
       "      <td>2883596</td>\n",
       "      <td>-0.054759</td>\n",
       "    </tr>\n",
       "  </tbody>\n",
       "</table>\n",
       "</div>"
      ],
      "text/plain": [
       "   query_id  relevance       id  prediction\n",
       "0         2        2.0  6553605    0.151981\n",
       "1         2        2.0  7602182   -0.015192\n",
       "2         2        2.0  9025828   -0.044992\n",
       "3         2        2.0  4980745   -0.024775\n",
       "4         2        2.0  2883596   -0.054759"
      ]
     },
     "execution_count": 3,
     "metadata": {},
     "output_type": "execute_result"
    }
   ],
   "source": [
    "df = pd.read_csv('data.csv')\n",
    "print(df.shape)\n",
    "df.head()"
   ]
  },
  {
   "cell_type": "code",
   "execution_count": 36,
   "metadata": {},
   "outputs": [
    {
     "data": {
      "text/html": [
       "<div>\n",
       "<style scoped>\n",
       "    .dataframe tbody tr th:only-of-type {\n",
       "        vertical-align: middle;\n",
       "    }\n",
       "\n",
       "    .dataframe tbody tr th {\n",
       "        vertical-align: top;\n",
       "    }\n",
       "\n",
       "    .dataframe thead th {\n",
       "        text-align: right;\n",
       "    }\n",
       "</style>\n",
       "<table border=\"1\" class=\"dataframe\">\n",
       "  <thead>\n",
       "    <tr style=\"text-align: right;\">\n",
       "      <th></th>\n",
       "      <th>query_id</th>\n",
       "      <th>relevance</th>\n",
       "      <th>id</th>\n",
       "      <th>prediction</th>\n",
       "    </tr>\n",
       "  </thead>\n",
       "  <tbody>\n",
       "    <tr>\n",
       "      <th>70940</th>\n",
       "      <td>22720</td>\n",
       "      <td>2.000000</td>\n",
       "      <td>3320579</td>\n",
       "      <td>0.274801</td>\n",
       "    </tr>\n",
       "    <tr>\n",
       "      <th>70941</th>\n",
       "      <td>22720</td>\n",
       "      <td>2.000000</td>\n",
       "      <td>961284</td>\n",
       "      <td>0.037761</td>\n",
       "    </tr>\n",
       "    <tr>\n",
       "      <th>70942</th>\n",
       "      <td>22720</td>\n",
       "      <td>0.000016</td>\n",
       "      <td>2796293</td>\n",
       "      <td>-1.038155</td>\n",
       "    </tr>\n",
       "    <tr>\n",
       "      <th>70938</th>\n",
       "      <td>22700</td>\n",
       "      <td>2.000000</td>\n",
       "      <td>5417722</td>\n",
       "      <td>0.263022</td>\n",
       "    </tr>\n",
       "    <tr>\n",
       "      <th>70937</th>\n",
       "      <td>22700</td>\n",
       "      <td>2.000000</td>\n",
       "      <td>1341365</td>\n",
       "      <td>0.119773</td>\n",
       "    </tr>\n",
       "  </tbody>\n",
       "</table>\n",
       "</div>"
      ],
      "text/plain": [
       "       query_id  relevance       id  prediction\n",
       "70940     22720   2.000000  3320579    0.274801\n",
       "70941     22720   2.000000   961284    0.037761\n",
       "70942     22720   0.000016  2796293   -1.038155\n",
       "70938     22700   2.000000  5417722    0.263022\n",
       "70937     22700   2.000000  1341365    0.119773"
      ]
     },
     "execution_count": 36,
     "metadata": {},
     "output_type": "execute_result"
    }
   ],
   "source": [
    "df = df.sort_values(['query_id', 'prediction', 'relevance'], ascending=[False, False, True])\n",
    "df.head()"
   ]
  },
  {
   "cell_type": "code",
   "execution_count": 37,
   "metadata": {},
   "outputs": [
    {
     "data": {
      "text/plain": [
       "array([3, 2, 0, 1])"
      ]
     },
     "execution_count": 37,
     "metadata": {},
     "output_type": "execute_result"
    }
   ],
   "source": [
    "a = np.array([2, 1, 1, 3])\n",
    "b = np.array([4, 5, 2, 1])\n",
    "np.lexsort([a, b])"
   ]
  },
  {
   "cell_type": "code",
   "execution_count": 53,
   "metadata": {},
   "outputs": [],
   "source": [
    "def dcg_score(y_true, y_score):\n",
    "    order = np.lexsort([y_true, -y_score])\n",
    "#     print(y_score, order)\n",
    "#     print(y_true, order, np.take(y_true, order))\n",
    "    y_true = np.take(y_true, order)\n",
    "    gain = 2 ** y_true - 1\n",
    "    discounts = np.log2(np.arange(len(y_true)) + 2)\n",
    "    return np.sum(gain / discounts)\n",
    "\n",
    "def ndcg_matrix(y_true, y_score):\n",
    "    N = y_true.shape[0]\n",
    "#     m = np.zeros((N, N))\n",
    "    dcg = dcg_score(y_true, y_score)\n",
    "    m = np.diag([dcg] * N)\n",
    "    for i in range(N):\n",
    "        for j in range(i + 1, N):\n",
    "            y_score_ = y_score.copy()\n",
    "            y_score_[i] = y_score[j]\n",
    "            y_score_[j] = y_score[i]\n",
    "            m[i, j] = dcg_score(y_true, y_score_)\n",
    "            m[j, i] = m[i, j]\n",
    "    dcg_perfect = dcg_score(np.sort(y_true), np.arange(N))\n",
    "    return m / dcg_perfect"
   ]
  },
  {
   "cell_type": "code",
   "execution_count": 55,
   "metadata": {},
   "outputs": [
    {
     "name": "stderr",
     "output_type": "stream",
     "text": [
      "/home/ilivans/.virtualenvs/cmn36/lib/python3.6/site-packages/ipykernel_launcher.py:23: SettingWithCopyWarning: \n",
      "A value is trying to be set on a copy of a slice from a DataFrame.\n",
      "Try using .loc[row_indexer,col_indexer] = value instead\n",
      "\n",
      "See the caveats in the documentation: http://pandas.pydata.org/pandas-docs/stable/indexing.html#indexing-view-versus-copy\n",
      "/home/ilivans/.virtualenvs/cmn36/lib/python3.6/site-packages/ipykernel_launcher.py:23: RuntimeWarning: invalid value encountered in true_divide\n"
     ]
    }
   ],
   "source": [
    "dfs = []\n",
    "for q in df.query_id.unique():\n",
    "    df_ = df[df.query_id == q]\n",
    "    r = df_.relevance.values\n",
    "    s = df_.prediction.values\n",
    "    N = r.shape[0]\n",
    "    y = np.tile(r[:, None], N)\n",
    "    y = np.where(y - y.T > 0, 1, 0)\n",
    "    s_diff = np.tile(s[:, None], N)\n",
    "    s_diff = s_diff - s_diff.T\n",
    "    derivative = (1 - y) - 1 / (1 + np.exp(s_diff))\n",
    "    ndcg = ndcg_matrix(r, s)\n",
    "    d_ndcg = ndcg - ndcg[0, 0]\n",
    "    lambda_pairwise = derivative * d_ndcg\n",
    "    lambda_pairwise[~y] = -lambda_pairwise[~y]\n",
    "    lambda_ = lambda_pairwise.sum(-1)\n",
    "#     print(lambda_)\n",
    "    df_['lambda'] = lambda_\n",
    "    dfs.append(df_)"
   ]
  },
  {
   "cell_type": "code",
   "execution_count": 69,
   "metadata": {},
   "outputs": [
    {
     "data": {
      "text/plain": [
       "array([ 0.,  0.,  0.,  0.,  0.,  0.,  0.,  0.,  0.,  0.,  0.,  0.,  0.,\n",
       "        0.,  0.,  0.,  0.,  0., -0., -0.])"
      ]
     },
     "execution_count": 69,
     "metadata": {},
     "output_type": "execute_result"
    }
   ],
   "source": [
    "lambda_pairwise.diagonal()"
   ]
  },
  {
   "cell_type": "code",
   "execution_count": 56,
   "metadata": {},
   "outputs": [],
   "source": [
    "df_new = pd.concat(dfs)"
   ]
  },
  {
   "cell_type": "code",
   "execution_count": 62,
   "metadata": {},
   "outputs": [
    {
     "data": {
      "text/plain": [
       "3341"
      ]
     },
     "execution_count": 62,
     "metadata": {},
     "output_type": "execute_result"
    }
   ],
   "source": [
    "df_new['lambda'].isna().sum()"
   ]
  },
  {
   "cell_type": "code",
   "execution_count": 61,
   "metadata": {},
   "outputs": [
    {
     "data": {
      "text/html": [
       "<div>\n",
       "<style scoped>\n",
       "    .dataframe tbody tr th:only-of-type {\n",
       "        vertical-align: middle;\n",
       "    }\n",
       "\n",
       "    .dataframe tbody tr th {\n",
       "        vertical-align: top;\n",
       "    }\n",
       "\n",
       "    .dataframe thead th {\n",
       "        text-align: right;\n",
       "    }\n",
       "</style>\n",
       "<table border=\"1\" class=\"dataframe\">\n",
       "  <thead>\n",
       "    <tr style=\"text-align: right;\">\n",
       "      <th></th>\n",
       "      <th>query_id</th>\n",
       "      <th>relevance</th>\n",
       "      <th>id</th>\n",
       "      <th>prediction</th>\n",
       "      <th>lambda</th>\n",
       "    </tr>\n",
       "  </thead>\n",
       "  <tbody>\n",
       "    <tr>\n",
       "      <th>70925</th>\n",
       "      <td>22638</td>\n",
       "      <td>0.0</td>\n",
       "      <td>4893405</td>\n",
       "      <td>-0.127998</td>\n",
       "      <td>NaN</td>\n",
       "    </tr>\n",
       "    <tr>\n",
       "      <th>70926</th>\n",
       "      <td>22638</td>\n",
       "      <td>0.0</td>\n",
       "      <td>8563423</td>\n",
       "      <td>-0.143283</td>\n",
       "      <td>NaN</td>\n",
       "    </tr>\n",
       "    <tr>\n",
       "      <th>70927</th>\n",
       "      <td>22638</td>\n",
       "      <td>0.0</td>\n",
       "      <td>8176203</td>\n",
       "      <td>-1.038415</td>\n",
       "      <td>NaN</td>\n",
       "    </tr>\n",
       "    <tr>\n",
       "      <th>70900</th>\n",
       "      <td>22528</td>\n",
       "      <td>0.0</td>\n",
       "      <td>2534037</td>\n",
       "      <td>-0.076473</td>\n",
       "      <td>NaN</td>\n",
       "    </tr>\n",
       "    <tr>\n",
       "      <th>70901</th>\n",
       "      <td>22528</td>\n",
       "      <td>0.0</td>\n",
       "      <td>3320475</td>\n",
       "      <td>-0.177393</td>\n",
       "      <td>NaN</td>\n",
       "    </tr>\n",
       "    <tr>\n",
       "      <th>70902</th>\n",
       "      <td>22528</td>\n",
       "      <td>0.0</td>\n",
       "      <td>5941917</td>\n",
       "      <td>-0.187048</td>\n",
       "      <td>NaN</td>\n",
       "    </tr>\n",
       "    <tr>\n",
       "      <th>70903</th>\n",
       "      <td>22528</td>\n",
       "      <td>0.0</td>\n",
       "      <td>4106910</td>\n",
       "      <td>-0.189414</td>\n",
       "      <td>NaN</td>\n",
       "    </tr>\n",
       "    <tr>\n",
       "      <th>70904</th>\n",
       "      <td>22528</td>\n",
       "      <td>0.0</td>\n",
       "      <td>5679776</td>\n",
       "      <td>-1.038415</td>\n",
       "      <td>NaN</td>\n",
       "    </tr>\n",
       "    <tr>\n",
       "      <th>70892</th>\n",
       "      <td>22496</td>\n",
       "      <td>0.0</td>\n",
       "      <td>4631171</td>\n",
       "      <td>0.183242</td>\n",
       "      <td>NaN</td>\n",
       "    </tr>\n",
       "    <tr>\n",
       "      <th>70891</th>\n",
       "      <td>22496</td>\n",
       "      <td>0.0</td>\n",
       "      <td>6204032</td>\n",
       "      <td>-0.000716</td>\n",
       "      <td>NaN</td>\n",
       "    </tr>\n",
       "  </tbody>\n",
       "</table>\n",
       "</div>"
      ],
      "text/plain": [
       "       query_id  relevance       id  prediction  lambda\n",
       "70925     22638        0.0  4893405   -0.127998     NaN\n",
       "70926     22638        0.0  8563423   -0.143283     NaN\n",
       "70927     22638        0.0  8176203   -1.038415     NaN\n",
       "70900     22528        0.0  2534037   -0.076473     NaN\n",
       "70901     22528        0.0  3320475   -0.177393     NaN\n",
       "70902     22528        0.0  5941917   -0.187048     NaN\n",
       "70903     22528        0.0  4106910   -0.189414     NaN\n",
       "70904     22528        0.0  5679776   -1.038415     NaN\n",
       "70892     22496        0.0  4631171    0.183242     NaN\n",
       "70891     22496        0.0  6204032   -0.000716     NaN"
      ]
     },
     "execution_count": 61,
     "metadata": {},
     "output_type": "execute_result"
    }
   ],
   "source": [
    "df_new[df_new['lambda'].isna()].head(10)"
   ]
  },
  {
   "cell_type": "code",
   "execution_count": 63,
   "metadata": {},
   "outputs": [],
   "source": [
    "df_new.to_csv('lambda.csv', index=False)"
   ]
  },
  {
   "cell_type": "code",
   "execution_count": 66,
   "metadata": {},
   "outputs": [],
   "source": [
    "subm = ' '.join(map(str, df_new.sort_values('id')['lambda'].fillna(0).values))"
   ]
  },
  {
   "cell_type": "code",
   "execution_count": 68,
   "metadata": {},
   "outputs": [],
   "source": [
    "with open('submission.txt', 'w') as f:\n",
    "    f.write(subm)"
   ]
  },
  {
   "cell_type": "code",
   "execution_count": null,
   "metadata": {},
   "outputs": [],
   "source": []
  }
 ],
 "metadata": {
  "kernelspec": {
   "display_name": "Python 3",
   "language": "python",
   "name": "python3"
  },
  "language_info": {
   "codemirror_mode": {
    "name": "ipython",
    "version": 3
   },
   "file_extension": ".py",
   "mimetype": "text/x-python",
   "name": "python",
   "nbconvert_exporter": "python",
   "pygments_lexer": "ipython3",
   "version": "3.6.3"
  }
 },
 "nbformat": 4,
 "nbformat_minor": 2
}
